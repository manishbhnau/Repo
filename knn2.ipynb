{
  "nbformat": 4,
  "nbformat_minor": 0,
  "metadata": {
    "colab": {
      "name": "knn2.ipynb",
      "provenance": [],
      "collapsed_sections": [],
      "authorship_tag": "ABX9TyNdBVQ8MOkRUTVQ5deioJyp",
      "include_colab_link": true
    },
    "kernelspec": {
      "name": "python3",
      "display_name": "Python 3"
    }
  },
  "cells": [
    {
      "cell_type": "markdown",
      "metadata": {
        "id": "view-in-github",
        "colab_type": "text"
      },
      "source": [
        "<a href=\"https://colab.research.google.com/github/manishbhnau/Repo/blob/master/knn2.ipynb\" target=\"_parent\"><img src=\"https://colab.research.google.com/assets/colab-badge.svg\" alt=\"Open In Colab\"/></a>"
      ]
    },
    {
      "cell_type": "code",
      "metadata": {
        "colab": {
          "resources": {
            "http://localhost:8080/nbextensions/google.colab/files.js": {
              "data": "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",
              "ok": true,
              "headers": [
                [
                  "content-type",
                  "application/javascript"
                ]
              ],
              "status": 200,
              "status_text": "OK"
            }
          },
          "base_uri": "https://localhost:8080/",
          "height": 79
        },
        "id": "OTxccgoHJpLg",
        "outputId": "748a4c02-7545-43ee-8506-2b7d63f76f93"
      },
      "source": [
        "from google.colab import files\n",
        "uploaded=files.upload()"
      ],
      "execution_count": 31,
      "outputs": [
        {
          "output_type": "display_data",
          "data": {
            "text/html": [
              "\n",
              "     <input type=\"file\" id=\"files-57953249-3e71-4758-93a8-74598b596eb7\" name=\"files[]\" multiple disabled\n",
              "        style=\"border:none\" />\n",
              "     <output id=\"result-57953249-3e71-4758-93a8-74598b596eb7\">\n",
              "      Upload widget is only available when the cell has been executed in the\n",
              "      current browser session. Please rerun this cell to enable.\n",
              "      </output>\n",
              "      <script src=\"/nbextensions/google.colab/files.js\"></script> "
            ],
            "text/plain": [
              "<IPython.core.display.HTML object>"
            ]
          },
          "metadata": {
            "tags": []
          }
        },
        {
          "output_type": "stream",
          "text": [
            "Saving Credit.csv to Credit (2).csv\n"
          ],
          "name": "stdout"
        }
      ]
    },
    {
      "cell_type": "code",
      "metadata": {
        "colab": {
          "base_uri": "https://localhost:8080/"
        },
        "id": "9c2CLnsHOKyo",
        "outputId": "0ee91b80-7462-45d2-dbd6-6253ca0b39aa"
      },
      "source": [
        "import pandas as pd\n",
        "#read in the data using pandas\n",
        "df = pd.read_csv(\"Credit.csv\")\n",
        "#check data has been read in properly\n",
        "col=df.columns.tolist()\n",
        "print (col)\n",
        "print (df.head())\n",
        "print (df.shape)"
      ],
      "execution_count": 32,
      "outputs": [
        {
          "output_type": "stream",
          "text": [
            "['Unnamed: 0', 'Income', 'Limit', 'Rating', 'Cards', 'Age', 'Education', 'Gender', 'Student', 'Married', 'Ethnicity', 'Balance', 'Defaultee']\n",
            "   Unnamed: 0   Income  Limit  Rating  ...  Married  Ethnicity  Balance Defaultee\n",
            "0           1   14.891   3606     283  ...      Yes  Caucasian      333         0\n",
            "1           2  106.025   6645     483  ...      Yes      Asian      903         0\n",
            "2           3  104.593   7075     514  ...       No      Asian      580         0\n",
            "3           4  148.924   9504     681  ...       No      Asian      964         0\n",
            "4           5   55.882   4897     357  ...      Yes  Caucasian      331         0\n",
            "\n",
            "[5 rows x 13 columns]\n",
            "(400, 13)\n"
          ],
          "name": "stdout"
        }
      ]
    },
    {
      "cell_type": "code",
      "metadata": {
        "colab": {
          "base_uri": "https://localhost:8080/",
          "height": 206
        },
        "id": "0khpGnkEPCGN",
        "outputId": "be07e897-7961-4598-a8a5-50f6681aec11"
      },
      "source": [
        "from sklearn.preprocessing import LabelEncoder\n",
        "lb_make = LabelEncoder()\n",
        "df[\"Ethnicity_code\"] = lb_make.fit_transform(df[\"Ethnicity\"])\n",
        "df[\"Student_code\"] = lb_make.fit_transform(df[\"Student\"])\n",
        "df[\"Married_code\"] = lb_make.fit_transform(df[\"Married\"])\n",
        "df[\"Cards_code\"] = lb_make.fit_transform(df[\"Cards\"])\n",
        "df[\"Gender_code\"] = lb_make.fit_transform(df[\"Gender\"])\n",
        "\n",
        "df[[\"Ethnicity\", \"Ethnicity_code\", \"Student\", \"Student_code\", \"Married\", \"Married_code\", \"Cards\", \"Cards_code\", \"Gender\", \"Gender_code\"]].head(5)"
      ],
      "execution_count": 33,
      "outputs": [
        {
          "output_type": "execute_result",
          "data": {
            "text/html": [
              "<div>\n",
              "<style scoped>\n",
              "    .dataframe tbody tr th:only-of-type {\n",
              "        vertical-align: middle;\n",
              "    }\n",
              "\n",
              "    .dataframe tbody tr th {\n",
              "        vertical-align: top;\n",
              "    }\n",
              "\n",
              "    .dataframe thead th {\n",
              "        text-align: right;\n",
              "    }\n",
              "</style>\n",
              "<table border=\"1\" class=\"dataframe\">\n",
              "  <thead>\n",
              "    <tr style=\"text-align: right;\">\n",
              "      <th></th>\n",
              "      <th>Ethnicity</th>\n",
              "      <th>Ethnicity_code</th>\n",
              "      <th>Student</th>\n",
              "      <th>Student_code</th>\n",
              "      <th>Married</th>\n",
              "      <th>Married_code</th>\n",
              "      <th>Cards</th>\n",
              "      <th>Cards_code</th>\n",
              "      <th>Gender</th>\n",
              "      <th>Gender_code</th>\n",
              "    </tr>\n",
              "  </thead>\n",
              "  <tbody>\n",
              "    <tr>\n",
              "      <th>0</th>\n",
              "      <td>Caucasian</td>\n",
              "      <td>2</td>\n",
              "      <td>No</td>\n",
              "      <td>0</td>\n",
              "      <td>Yes</td>\n",
              "      <td>1</td>\n",
              "      <td>2</td>\n",
              "      <td>1</td>\n",
              "      <td>Male</td>\n",
              "      <td>1</td>\n",
              "    </tr>\n",
              "    <tr>\n",
              "      <th>1</th>\n",
              "      <td>Asian</td>\n",
              "      <td>1</td>\n",
              "      <td>Yes</td>\n",
              "      <td>1</td>\n",
              "      <td>Yes</td>\n",
              "      <td>1</td>\n",
              "      <td>3</td>\n",
              "      <td>2</td>\n",
              "      <td>Female</td>\n",
              "      <td>0</td>\n",
              "    </tr>\n",
              "    <tr>\n",
              "      <th>2</th>\n",
              "      <td>Asian</td>\n",
              "      <td>1</td>\n",
              "      <td>No</td>\n",
              "      <td>0</td>\n",
              "      <td>No</td>\n",
              "      <td>0</td>\n",
              "      <td>4</td>\n",
              "      <td>3</td>\n",
              "      <td>Male</td>\n",
              "      <td>1</td>\n",
              "    </tr>\n",
              "    <tr>\n",
              "      <th>3</th>\n",
              "      <td>Asian</td>\n",
              "      <td>1</td>\n",
              "      <td>No</td>\n",
              "      <td>0</td>\n",
              "      <td>No</td>\n",
              "      <td>0</td>\n",
              "      <td>3</td>\n",
              "      <td>2</td>\n",
              "      <td>Female</td>\n",
              "      <td>0</td>\n",
              "    </tr>\n",
              "    <tr>\n",
              "      <th>4</th>\n",
              "      <td>Caucasian</td>\n",
              "      <td>2</td>\n",
              "      <td>No</td>\n",
              "      <td>0</td>\n",
              "      <td>Yes</td>\n",
              "      <td>1</td>\n",
              "      <td>2</td>\n",
              "      <td>1</td>\n",
              "      <td>Male</td>\n",
              "      <td>1</td>\n",
              "    </tr>\n",
              "  </tbody>\n",
              "</table>\n",
              "</div>"
            ],
            "text/plain": [
              "   Ethnicity  Ethnicity_code Student  ...  Cards_code  Gender  Gender_code\n",
              "0  Caucasian               2      No  ...           1    Male            1\n",
              "1      Asian               1     Yes  ...           2  Female            0\n",
              "2      Asian               1      No  ...           3    Male            1\n",
              "3      Asian               1      No  ...           2  Female            0\n",
              "4  Caucasian               2      No  ...           1    Male            1\n",
              "\n",
              "[5 rows x 10 columns]"
            ]
          },
          "metadata": {
            "tags": []
          },
          "execution_count": 33
        }
      ]
    },
    {
      "cell_type": "code",
      "metadata": {
        "colab": {
          "base_uri": "https://localhost:8080/"
        },
        "id": "b9mdADvcOm5C",
        "outputId": "19b940c5-2bf3-4d48-e2fe-700927d0eb86"
      },
      "source": [
        "y=df[\"Defaultee\"].values; y=y.astype(int)\n",
        "dftemp=df.drop(columns=[\"Defaultee\", \"Ethnicity\", \"Married\", \"Student\", \"Cards\", \"Gender\"])\n",
        "X=dftemp.values; X=X.astype(int)\n",
        "print (X[:5], y[:5])"
      ],
      "execution_count": 49,
      "outputs": [
        {
          "output_type": "stream",
          "text": [
            "[[   1   14 3606  283   34   11  333    2    0    1    1    1]\n",
            " [   2  106 6645  483   82   15  903    1    1    1    2    0]\n",
            " [   3  104 7075  514   71   11  580    1    0    0    3    1]\n",
            " [   4  148 9504  681   36   11  964    1    0    0    2    0]\n",
            " [   5   55 4897  357   68   16  331    2    0    1    1    1]] [0 0 0 0 0]\n"
          ],
          "name": "stdout"
        }
      ]
    },
    {
      "cell_type": "code",
      "metadata": {
        "colab": {
          "base_uri": "https://localhost:8080/"
        },
        "id": "v21tEpvJ4yob",
        "outputId": "97d8f0f4-76c7-4cd9-85cc-409ca6486700"
      },
      "source": [
        "from sklearn import preprocessing\n",
        "\n",
        "x = dftemp.values #returns a numpy array\n",
        "min_max_scaler = preprocessing.MinMaxScaler()\n",
        "x_scaled = min_max_scaler.fit_transform(x)\n",
        "dftemp = pd.DataFrame(x_scaled)\n",
        "print (dftemp)"
      ],
      "execution_count": 52,
      "outputs": [
        {
          "output_type": "stream",
          "text": [
            "           0         1         2         3   ...   8    9      10   11\n",
            "0    0.000000  0.025737  0.210675  0.213723  ...  0.0  1.0  0.125  1.0\n",
            "1    0.002506  0.542722  0.443406  0.438695  ...  1.0  1.0  0.250  0.0\n",
            "2    0.005013  0.534598  0.476336  0.473566  ...  0.0  0.0  0.375  1.0\n",
            "3    0.007519  0.786079  0.662353  0.661417  ...  0.0  0.0  0.250  0.0\n",
            "4    0.010025  0.258271  0.309542  0.296963  ...  0.0  1.0  0.125  1.0\n",
            "..        ...       ...       ...       ...  ...  ...  ...    ...  ...\n",
            "395  0.989975  0.009882  0.248507  0.240720  ...  0.0  1.0  0.250  1.0\n",
            "396  0.992481  0.017075  0.228442  0.228346  ...  0.0  0.0  0.500  1.0\n",
            "397  0.994987  0.269560  0.253944  0.256468  ...  0.0  1.0  0.500  0.0\n",
            "398  0.997494  0.155287  0.127891  0.111361  ...  0.0  1.0  0.000  1.0\n",
            "399  1.000000  0.047351  0.357559  0.362205  ...  0.0  0.0  0.500  0.0\n",
            "\n",
            "[400 rows x 12 columns]\n"
          ],
          "name": "stdout"
        }
      ]
    },
    {
      "cell_type": "code",
      "metadata": {
        "colab": {
          "base_uri": "https://localhost:8080/"
        },
        "id": "mIaoTq6Y5OqA",
        "outputId": "f82a1889-8a3e-430d-8bc3-005339df6549"
      },
      "source": [
        "y=df[\"Defaultee\"].values; y=y.astype(int)\n",
        "dftemp=df.drop(columns=[\"Defaultee\", \"Ethnicity\", \"Married\", \"Student\", \"Cards\", \"Gender\"])\n",
        "X=dftemp.values; X=X.astype(int)\n",
        "print (X[:5], y[:5])"
      ],
      "execution_count": 53,
      "outputs": [
        {
          "output_type": "stream",
          "text": [
            "[[   1   14 3606  283   34   11  333    2    0    1    1    1]\n",
            " [   2  106 6645  483   82   15  903    1    1    1    2    0]\n",
            " [   3  104 7075  514   71   11  580    1    0    0    3    1]\n",
            " [   4  148 9504  681   36   11  964    1    0    0    2    0]\n",
            " [   5   55 4897  357   68   16  331    2    0    1    1    1]] [0 0 0 0 0]\n"
          ],
          "name": "stdout"
        }
      ]
    },
    {
      "cell_type": "code",
      "metadata": {
        "colab": {
          "base_uri": "https://localhost:8080/"
        },
        "id": "zbeOvG7oVf2-",
        "outputId": "d63527ea-721a-4158-e833-9020054c9834"
      },
      "source": [
        "from sklearn.model_selection import train_test_split\n",
        "#split dataset into train and test data\n",
        "X_train, X_test, y_train, y_test = train_test_split(X, y, test_size=0.2, random_state=1, stratify=y)\n",
        "X_train.shape, y_train.shape, X_test.shape, y_test.shape"
      ],
      "execution_count": 54,
      "outputs": [
        {
          "output_type": "execute_result",
          "data": {
            "text/plain": [
              "((320, 12), (320,), (80, 12), (80,))"
            ]
          },
          "metadata": {
            "tags": []
          },
          "execution_count": 54
        }
      ]
    },
    {
      "cell_type": "markdown",
      "metadata": {
        "id": "UrKE36gCWyR_"
      },
      "source": [
        "## **KNN**"
      ]
    },
    {
      "cell_type": "code",
      "metadata": {
        "colab": {
          "base_uri": "https://localhost:8080/"
        },
        "id": "sq6sNBuxV_LF",
        "outputId": "46a58233-8857-4e82-831c-97edd514383d"
      },
      "source": [
        "from sklearn.neighbors import KNeighborsClassifier\n",
        "# Create KNN classifier\n",
        "knn = KNeighborsClassifier(n_neighbors = 2)\n",
        "# Fit the classifier to the data\n",
        "knn.fit(X_train,y_train)"
      ],
      "execution_count": 64,
      "outputs": [
        {
          "output_type": "execute_result",
          "data": {
            "text/plain": [
              "KNeighborsClassifier(algorithm='auto', leaf_size=30, metric='minkowski',\n",
              "                     metric_params=None, n_jobs=None, n_neighbors=2, p=2,\n",
              "                     weights='uniform')"
            ]
          },
          "metadata": {
            "tags": []
          },
          "execution_count": 64
        }
      ]
    },
    {
      "cell_type": "code",
      "metadata": {
        "colab": {
          "base_uri": "https://localhost:8080/"
        },
        "id": "1KcEzCyAWQ8w",
        "outputId": "c9c64575-50b7-462c-e454-1b7038617760"
      },
      "source": [
        "#show first 5 model predictions on the test data\n",
        "knn.predict(X_test)#[0:5]"
      ],
      "execution_count": 65,
      "outputs": [
        {
          "output_type": "execute_result",
          "data": {
            "text/plain": [
              "array([0, 0, 0, 0, 0, 0, 1, 0, 0, 1, 0, 0, 0, 0, 0, 0, 0, 0, 0, 1, 0, 0,\n",
              "       1, 0, 0, 0, 0, 0, 0, 0, 1, 0, 0, 0, 0, 0, 0, 1, 0, 0, 1, 1, 0, 0,\n",
              "       0, 0, 0, 0, 0, 0, 0, 0, 1, 1, 0, 0, 0, 0, 0, 0, 0, 1, 0, 1, 0, 0,\n",
              "       0, 1, 0, 0, 0, 0, 0, 0, 0, 0, 0, 0, 0, 0])"
            ]
          },
          "metadata": {
            "tags": []
          },
          "execution_count": 65
        }
      ]
    },
    {
      "cell_type": "code",
      "metadata": {
        "colab": {
          "base_uri": "https://localhost:8080/"
        },
        "id": "kLrFhUZ0WX9U",
        "outputId": "e6d22dbe-51fc-4c2a-eebc-05fd2df0276e"
      },
      "source": [
        "#check accuracy of our model on the test data\n",
        "knn.score(X_test, y_test)"
      ],
      "execution_count": 57,
      "outputs": [
        {
          "output_type": "execute_result",
          "data": {
            "text/plain": [
              "0.9625"
            ]
          },
          "metadata": {
            "tags": []
          },
          "execution_count": 57
        }
      ]
    },
    {
      "cell_type": "markdown",
      "metadata": {
        "id": "27obFzdXZbM6"
      },
      "source": [
        "## **k-Fold Cross-Validation**"
      ]
    },
    {
      "cell_type": "code",
      "metadata": {
        "colab": {
          "base_uri": "https://localhost:8080/"
        },
        "id": "trQPZEZ-Wnol",
        "outputId": "a492d16d-8176-42fd-d38f-9fa21249429d"
      },
      "source": [
        "from sklearn.model_selection import cross_val_score\n",
        "import numpy as np\n",
        "#create a new KNN model\n",
        "knn_cv = KNeighborsClassifier(n_neighbors=2)\n",
        "#train model with cv of 5 \n",
        "cv_scores = cross_val_score(knn_cv, X, y, cv=5)\n",
        "#print each cv score (accuracy) and average them\n",
        "print(cv_scores)\n",
        "print(\"cv_scores mean:{}\".format(np.mean(cv_scores)))"
      ],
      "execution_count": 58,
      "outputs": [
        {
          "output_type": "stream",
          "text": [
            "[0.95   0.9625 0.9625 0.9625 0.95  ]\n",
            "cv_scores mean:0.9574999999999999\n"
          ],
          "name": "stdout"
        }
      ]
    },
    {
      "cell_type": "code",
      "metadata": {
        "id": "v3RwsOYraMHw"
      },
      "source": [
        "from sklearn.model_selection import KFold\n",
        "#print (X.shape)\n",
        "kf = KFold(n_splits=5)\n",
        "for train, test in kf.split(X):\n",
        "    print(\"%s %s\" % (train, test))"
      ],
      "execution_count": null,
      "outputs": []
    },
    {
      "cell_type": "code",
      "metadata": {
        "id": "iqmOSou2bAjd"
      },
      "source": [
        "from sklearn.model_selection import LeaveOneOut\n",
        "\n",
        "loo = LeaveOneOut()\n",
        "for train, test in loo.split(X):\n",
        "    print(\"%s %s\" % (train, test))"
      ],
      "execution_count": null,
      "outputs": []
    },
    {
      "cell_type": "code",
      "metadata": {
        "id": "w5wGU0WHbbXn"
      },
      "source": [
        "from sklearn.model_selection import LeavePOut\n",
        "\n",
        "lpo = LeavePOut(3)\n",
        "\n",
        "for train_index, test_index in lpo.split(X[:10]):\n",
        "    print(\"TRAIN:\", train_index, \"TEST:\", test_index)\n",
        "    #try:\n",
        "    #  print(\"TRAIN:\", train_index, \"TEST:\", test_index)\n",
        "    #  #x_train, x_test = X_train[train_index], X_train[test_index]\n",
        "    #  yy_train, yy_test = y_train[train_index], y_train[test_index]\n",
        "    #except:\n",
        "    #  pass\n",
        "    #  #break"
      ],
      "execution_count": null,
      "outputs": []
    },
    {
      "cell_type": "markdown",
      "metadata": {
        "id": "kgDE0mAjZlcA"
      },
      "source": [
        "## **Hypertuning model parameters using GridSearchCV**"
      ]
    },
    {
      "cell_type": "code",
      "metadata": {
        "colab": {
          "base_uri": "https://localhost:8080/"
        },
        "id": "qvr7PnR5XLgM",
        "outputId": "670fbaee-2969-4171-edcf-dc9b11f96b99"
      },
      "source": [
        "from sklearn.model_selection import GridSearchCV\n",
        "#create new a knn model\n",
        "knn2 = KNeighborsClassifier()\n",
        "#create a dictionary of all values we want to test for n_neighbors\n",
        "param_grid = {\"n_neighbors\": np.arange(1, 25)}\n",
        "#use gridsearch to test all values for n_neighbors\n",
        "knn_gscv = GridSearchCV(knn2, param_grid, cv=5)\n",
        "#fit model to data\n",
        "knn_gscv.fit(X, y)"
      ],
      "execution_count": 60,
      "outputs": [
        {
          "output_type": "execute_result",
          "data": {
            "text/plain": [
              "GridSearchCV(cv=5, error_score=nan,\n",
              "             estimator=KNeighborsClassifier(algorithm='auto', leaf_size=30,\n",
              "                                            metric='minkowski',\n",
              "                                            metric_params=None, n_jobs=None,\n",
              "                                            n_neighbors=5, p=2,\n",
              "                                            weights='uniform'),\n",
              "             iid='deprecated', n_jobs=None,\n",
              "             param_grid={'n_neighbors': array([ 1,  2,  3,  4,  5,  6,  7,  8,  9, 10, 11, 12, 13, 14, 15, 16, 17,\n",
              "       18, 19, 20, 21, 22, 23, 24])},\n",
              "             pre_dispatch='2*n_jobs', refit=True, return_train_score=False,\n",
              "             scoring=None, verbose=0)"
            ]
          },
          "metadata": {
            "tags": []
          },
          "execution_count": 60
        }
      ]
    },
    {
      "cell_type": "code",
      "metadata": {
        "colab": {
          "base_uri": "https://localhost:8080/"
        },
        "id": "TFJuGNpnXTJt",
        "outputId": "3dcc3543-7788-4003-aa98-fe9097c43ee2"
      },
      "source": [
        "#check top performing n_neighbors value\n",
        "knn_gscv.best_params_"
      ],
      "execution_count": 66,
      "outputs": [
        {
          "output_type": "execute_result",
          "data": {
            "text/plain": [
              "{'n_neighbors': 1}"
            ]
          },
          "metadata": {
            "tags": []
          },
          "execution_count": 66
        }
      ]
    },
    {
      "cell_type": "code",
      "metadata": {
        "colab": {
          "base_uri": "https://localhost:8080/"
        },
        "id": "w9CNGJJYXYJd",
        "outputId": "9a758149-8c12-4858-9025-0a4e1a1631c1"
      },
      "source": [
        "#check mean score for the top performing value of n_neighbors\n",
        "knn_gscv.best_score_"
      ],
      "execution_count": 62,
      "outputs": [
        {
          "output_type": "execute_result",
          "data": {
            "text/plain": [
              "0.9675"
            ]
          },
          "metadata": {
            "tags": []
          },
          "execution_count": 62
        }
      ]
    },
    {
      "cell_type": "code",
      "metadata": {
        "colab": {
          "base_uri": "https://localhost:8080/"
        },
        "id": "BYHCt3NgdABC",
        "outputId": "e517f0a6-8f02-42f2-9c11-c547b207a622"
      },
      "source": [
        "print(knn_gscv.cv_results_)"
      ],
      "execution_count": 63,
      "outputs": [
        {
          "output_type": "stream",
          "text": [
            "{'mean_fit_time': array([0.00115247, 0.00066085, 0.00065098, 0.00064511, 0.00066986,\n",
            "       0.000634  , 0.00060134, 0.00060616, 0.00062332, 0.00065117,\n",
            "       0.00062594, 0.00063486, 0.00061069, 0.00067286, 0.00062728,\n",
            "       0.00063014, 0.00066886, 0.00064378, 0.00062375, 0.00064139,\n",
            "       0.00066586, 0.00069237, 0.00068736, 0.00071511]), 'std_fit_time': array([8.54004160e-04, 6.39686245e-05, 2.76136065e-05, 1.63231605e-05,\n",
            "       3.67915018e-05, 1.37915617e-05, 1.45027496e-05, 1.71572609e-05,\n",
            "       3.40274685e-05, 5.18268251e-05, 1.62549024e-05, 4.24576298e-05,\n",
            "       8.11968416e-06, 7.21357702e-05, 5.30012599e-05, 2.34572866e-05,\n",
            "       2.12466139e-05, 1.66267859e-05, 1.58682924e-05, 1.87684947e-05,\n",
            "       4.89304168e-05, 2.38079784e-05, 7.00966841e-06, 9.85128259e-05]), 'mean_score_time': array([0.00388207, 0.00334821, 0.00313773, 0.00304346, 0.00319967,\n",
            "       0.00304723, 0.00306201, 0.00302324, 0.00321126, 0.00303125,\n",
            "       0.00310163, 0.00305061, 0.0030508 , 0.00319843, 0.00317707,\n",
            "       0.00325403, 0.00321856, 0.00341239, 0.0032217 , 0.00329013,\n",
            "       0.00347729, 0.0039865 , 0.00386233, 0.0037909 ]), 'std_score_time': array([1.02484190e-03, 2.91127639e-04, 1.62837034e-04, 8.19780573e-05,\n",
            "       2.26403699e-04, 3.87070195e-05, 1.72184571e-04, 3.50358840e-05,\n",
            "       5.03832649e-04, 3.11112038e-05, 3.06556232e-05, 7.49827606e-05,\n",
            "       4.36270822e-05, 1.54346038e-04, 6.70544953e-05, 1.68399861e-04,\n",
            "       8.84090812e-05, 2.14275392e-04, 7.07813968e-05, 9.94325420e-05,\n",
            "       2.52142878e-04, 3.79479270e-04, 1.96175663e-04, 7.87208037e-05]), 'param_n_neighbors': masked_array(data=[1, 2, 3, 4, 5, 6, 7, 8, 9, 10, 11, 12, 13, 14, 15, 16,\n",
            "                   17, 18, 19, 20, 21, 22, 23, 24],\n",
            "             mask=[False, False, False, False, False, False, False, False,\n",
            "                   False, False, False, False, False, False, False, False,\n",
            "                   False, False, False, False, False, False, False, False],\n",
            "       fill_value='?',\n",
            "            dtype=object), 'params': [{'n_neighbors': 1}, {'n_neighbors': 2}, {'n_neighbors': 3}, {'n_neighbors': 4}, {'n_neighbors': 5}, {'n_neighbors': 6}, {'n_neighbors': 7}, {'n_neighbors': 8}, {'n_neighbors': 9}, {'n_neighbors': 10}, {'n_neighbors': 11}, {'n_neighbors': 12}, {'n_neighbors': 13}, {'n_neighbors': 14}, {'n_neighbors': 15}, {'n_neighbors': 16}, {'n_neighbors': 17}, {'n_neighbors': 18}, {'n_neighbors': 19}, {'n_neighbors': 20}, {'n_neighbors': 21}, {'n_neighbors': 22}, {'n_neighbors': 23}, {'n_neighbors': 24}], 'split0_test_score': array([0.95  , 0.95  , 0.9625, 0.975 , 0.95  , 0.9625, 0.95  , 0.9375,\n",
            "       0.9375, 0.925 , 0.95  , 0.9   , 0.925 , 0.9125, 0.9125, 0.9125,\n",
            "       0.925 , 0.8875, 0.925 , 0.925 , 0.925 , 0.8875, 0.9   , 0.875 ]), 'split1_test_score': array([0.975 , 0.9625, 0.975 , 0.975 , 0.975 , 0.975 , 0.975 , 0.975 ,\n",
            "       0.975 , 0.975 , 0.975 , 0.9625, 0.975 , 0.95  , 0.95  , 0.95  ,\n",
            "       0.95  , 0.95  , 0.95  , 0.95  , 0.925 , 0.9125, 0.925 , 0.925 ]), 'split2_test_score': array([0.9625, 0.9625, 0.9625, 0.975 , 0.975 , 0.9625, 0.95  , 0.9375,\n",
            "       0.9375, 0.9375, 0.9375, 0.9375, 0.925 , 0.925 , 0.925 , 0.9   ,\n",
            "       0.9   , 0.9125, 0.9   , 0.9125, 0.9125, 0.9125, 0.9375, 0.925 ]), 'split3_test_score': array([0.9875, 0.9625, 0.975 , 0.95  , 0.9625, 0.95  , 0.95  , 0.95  ,\n",
            "       0.95  , 0.9375, 0.9375, 0.925 , 0.925 , 0.925 , 0.925 , 0.925 ,\n",
            "       0.9125, 0.925 , 0.9   , 0.9125, 0.9125, 0.9   , 0.9   , 0.9   ]), 'split4_test_score': array([0.9625, 0.95  , 0.9625, 0.9625, 0.975 , 0.95  , 0.95  , 0.95  ,\n",
            "       0.95  , 0.95  , 0.95  , 0.925 , 0.925 , 0.9   , 0.9   , 0.9   ,\n",
            "       0.8875, 0.9   , 0.9   , 0.9   , 0.9   , 0.9125, 0.9   , 0.9   ]), 'mean_test_score': array([0.9675, 0.9575, 0.9675, 0.9675, 0.9675, 0.96  , 0.955 , 0.95  ,\n",
            "       0.95  , 0.945 , 0.95  , 0.93  , 0.935 , 0.9225, 0.9225, 0.9175,\n",
            "       0.915 , 0.915 , 0.915 , 0.92  , 0.915 , 0.905 , 0.9125, 0.905 ]), 'std_test_score': array([0.01274755, 0.00612372, 0.00612372, 0.01      , 0.01      ,\n",
            "       0.00935414, 0.01      , 0.01369306, 0.01369306, 0.01695582,\n",
            "       0.01369306, 0.0203101 , 0.02      , 0.01658312, 0.01658312,\n",
            "       0.01870829, 0.02150581, 0.02150581, 0.02      , 0.01695582,\n",
            "       0.00935414, 0.01      , 0.01581139, 0.01870829]), 'rank_test_score': array([ 1,  6,  1,  1,  4,  5,  7,  8,  8, 11,  8, 13, 12, 14, 14, 17, 18,\n",
            "       18, 18, 16, 18, 24, 22, 23], dtype=int32)}\n"
          ],
          "name": "stdout"
        }
      ]
    }
  ]
}