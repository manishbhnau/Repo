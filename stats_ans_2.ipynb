{
  "nbformat": 4,
  "nbformat_minor": 0,
  "metadata": {
    "colab": {
      "name": "stats_ans_2.ipynb",
      "provenance": [],
      "collapsed_sections": []
    },
    "kernelspec": {
      "name": "python3",
      "display_name": "Python 3"
    }
  },
  "cells": [
    {
      "cell_type": "markdown",
      "metadata": {
        "id": "0V6ridJxtvmA",
        "colab_type": "text"
      },
      "source": [
        "# **Find the probability distribution of “Cards”. Calculate “mean” and**\n",
        "# “variance” of “Cards”. Take a random sample of size 45. With a 95% **bold text**\n",
        "# confidence estimate the population mean of the number of cards of a **bold text**\n",
        "# person. Assume population variance is unknown. **bold text**"
      ]
    },
    {
      "cell_type": "code",
      "metadata": {
        "id": "jSsA09IMnaP_",
        "colab_type": "code",
        "colab": {}
      },
      "source": [
        "import pandas as pd\n",
        "import numpy as np\n",
        "import random\n",
        "from scipy.stats import norm\n",
        "import matplotlib.pyplot as plt"
      ],
      "execution_count": null,
      "outputs": []
    },
    {
      "cell_type": "code",
      "metadata": {
        "id": "XWmNcNdrnfVo",
        "colab_type": "code",
        "colab": {}
      },
      "source": [
        "#helper function that takes probability distribution and random variable to return statistics\n",
        "def stats(prb, X):\n",
        "\tmn, std, var=0, 0, 0\n",
        "\tfor i in range(len(X)):\n",
        "\t\tmn+=prb[i]*X[i]\n",
        "\t\tvar+=prb[i]*X[i]**2\n",
        "\tmn=mn*1.0/len(X)\n",
        "\tvar=var*1.0/len(X)\n",
        "\tstd=np.sqrt(var)\n",
        "\treturn mn, std, var"
      ],
      "execution_count": null,
      "outputs": []
    },
    {
      "cell_type": "code",
      "metadata": {
        "id": "aggMC8SjniCJ",
        "colab_type": "code",
        "colab": {}
      },
      "source": [
        "#functions taking dataframe and column name to return probability statistics\n",
        "def prob(df, col):\n",
        "\tlis=df[col].tolist(); lis=list(set(sorted(lis)))\n",
        "\tprbDistr=[]\n",
        "\tdf=df.dropna(subset=[col])\n",
        "\tN=df.shape[0]\n",
        "\tfor i in lis:\n",
        "\t\tprbDistr.append(1.0*df[ ( (df[col]==i) ) ].shape[0]/N)\n",
        "\t#print (prbDistr)\n",
        "\tmn, std, var=stats(prbDistr, lis)\n",
        "\treturn mn, std, var, prbDistr, lis"
      ],
      "execution_count": null,
      "outputs": []
    },
    {
      "cell_type": "code",
      "metadata": {
        "id": "hedZH4einnG7",
        "colab_type": "code",
        "colab": {
          "base_uri": "https://localhost:8080/",
          "height": 173
        },
        "outputId": "9f4858d1-e686-4048-efbc-12c3997a8e12"
      },
      "source": [
        "fileName=\"https://raw.githubusercontent.com/manishbhnau/Repo/master/Credit.csv\"\n",
        "col, confidence, size=\"Cards\", 0.95, 45\n",
        "df=pd.read_csv(fileName)\n",
        "col=col\n",
        "#As population variance is unknown using t-distribution table for alpha\n",
        "alpha=(1-confidence)*1.0/2; alphaZ=1.684#alphaz approx. taken\n",
        "\n",
        "#calculating the probability distribution of cards ie probability distribution of holding 1 card, 2 cards ...so on\n",
        "mn, std, var, prb, lis=prob(df, col)\n",
        "#printing random variable possible outcomes\n",
        "print (\"\\n\\n\")\n",
        "print (\"random variable\", lis)\n",
        "#printing probability distribution of above random variable and showing it sums to 1\n",
        "print (\"prob distr\", prb, sum(prb))\n",
        "#printing mean, standard deviation and variance\n",
        "print (\"mean std var of distribution\", mn, std, var, \"\\n\\n\")\n",
        "\n",
        "#taking a random sample\n",
        "\n",
        "#obtaing size numbers of random numbers\n",
        "randomIndex=random.sample(range(0, df.shape[0]), size)\n",
        "#obtaining only those selected random indices from dataframe hence getting the random sample\n",
        "dSample=df[[col]][ df.index.isin(randomIndex) ]\n",
        "#sample's statistics mean, standard deviation\n",
        "mn, std=np.mean(dSample[col]), np.std(dSample[col])\n",
        "\n",
        "#formula:- sample.mean-t.alpha/2*sample.std/sqrt(n) <  population.mean < sample.mean+t.alpha/2*sample.std/sqrt(n)\n",
        "\n",
        "print (\"sample:- confidence interval for population mean\", mn-alphaZ*std/np.sqrt(size), mn+alphaZ*std/np.sqrt(size))"
      ],
      "execution_count": null,
      "outputs": [
        {
          "output_type": "stream",
          "text": [
            "\n",
            "\n",
            "\n",
            "random variable [1, 2, 3, 4, 5, 6, 7, 8, 9]\n",
            "prob distr [0.1275, 0.2875, 0.2775, 0.18, 0.085, 0.0275, 0.01, 0.0025, 0.0025] 0.9999999999999999\n",
            "mean std var of distribution 0.3286111111111111 1.0864058991821508 1.1802777777777778 \n",
            "\n",
            "\n",
            "sample:- confidence interval for population mean 2.356082655589792 2.8883617888546524\n"
          ],
          "name": "stdout"
        }
      ]
    }
  ]
}