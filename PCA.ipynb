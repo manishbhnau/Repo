{
  "nbformat": 4,
  "nbformat_minor": 0,
  "metadata": {
    "colab": {
      "name": "PCA.ipynb",
      "provenance": [],
      "collapsed_sections": []
    },
    "kernelspec": {
      "name": "python3",
      "display_name": "Python 3"
    }
  },
  "cells": [
    {
      "cell_type": "code",
      "metadata": {
        "id": "EL0rzRMekt5A",
        "colab_type": "code",
        "colab": {}
      },
      "source": [
        "import pandas as pd\n",
        "import numpy as np\n",
        "import matplotlib.pyplot as plt"
      ],
      "execution_count": null,
      "outputs": []
    },
    {
      "cell_type": "markdown",
      "metadata": {
        "id": "QFqjwHMvtLtb",
        "colab_type": "text"
      },
      "source": [
        "# **Reading and presenting dataframe**"
      ]
    },
    {
      "cell_type": "code",
      "metadata": {
        "id": "W_84zyLHlE2p",
        "colab_type": "code",
        "colab": {
          "base_uri": "https://localhost:8080/",
          "height": 176
        },
        "outputId": "e6ff01a0-72b5-4b64-c281-513ee0f6e33b"
      },
      "source": [
        "url=\"https://raw.githubusercontent.com/manishbhnau/Repo/master/Credit.csv\"\n",
        "df=pd.read_csv(url)\n",
        "print (df.head(3))\n",
        "print (df.columns.tolist())\n",
        "print (df.shape)"
      ],
      "execution_count": null,
      "outputs": [
        {
          "output_type": "stream",
          "text": [
            "   Unnamed: 0   Income  Limit  Rating  ...  Married  Ethnicity  Balance Defaultee\n",
            "0           1   14.891   3606     283  ...      Yes  Caucasian      333         0\n",
            "1           2  106.025   6645     483  ...      Yes      Asian      903         0\n",
            "2           3  104.593   7075     514  ...       No      Asian      580         0\n",
            "\n",
            "[3 rows x 13 columns]\n",
            "['Unnamed: 0', 'Income', 'Limit', 'Rating', 'Cards', 'Age', 'Education', 'Gender', 'Student', 'Married', 'Ethnicity', 'Balance', 'Defaultee']\n",
            "(400, 13)\n"
          ],
          "name": "stdout"
        }
      ]
    },
    {
      "cell_type": "markdown",
      "metadata": {
        "id": "neC6vZi0tQgi",
        "colab_type": "text"
      },
      "source": [
        "# **Standardizing features**"
      ]
    },
    {
      "cell_type": "code",
      "metadata": {
        "id": "iI_qw1Etlb9O",
        "colab_type": "code",
        "colab": {
          "base_uri": "https://localhost:8080/",
          "height": 173
        },
        "outputId": "dea0b4c5-1768-4334-fc9c-0dfec51a66bf"
      },
      "source": [
        "from sklearn.preprocessing import StandardScaler\n",
        "features = [\"Income\", \"Limit\", \"Rating\", \"Balance\", \"Cards\", \"Age\", \"Education\"]# Separating out the features\n",
        "x = df.loc[:, features].values# Separating out the target\n",
        "y = df.loc[:,['Defaultee']].values# Standardizing the features\n",
        "x = StandardScaler().fit_transform(x)\n",
        "print (x.shape, y.shape)\n",
        "print (x[:4, ::])"
      ],
      "execution_count": null,
      "outputs": [
        {
          "output_type": "stream",
          "text": [
            "(400, 7) (400, 1)\n",
            "[[-0.86158299 -0.48999879 -0.46553881 -0.40727698 -0.6991298  -1.2576741\n",
            "  -0.78492991]\n",
            " [ 1.72743711  0.82826106  0.82870309  0.83405596  0.03103187  1.5284506\n",
            "   0.49658831]\n",
            " [ 1.68675551  1.01478681  1.02931059  0.13063396  0.76119355  0.88996369\n",
            "  -0.78492991]\n",
            " [ 2.94615212  2.06844038  2.11000258  0.96690036  0.03103187 -1.14158557\n",
            "  -0.78492991]]\n"
          ],
          "name": "stdout"
        }
      ]
    },
    {
      "cell_type": "markdown",
      "metadata": {
        "id": "hV3hSaPktXGP",
        "colab_type": "text"
      },
      "source": [
        "# **Defining PCA and fitting-transforming and obtaingin components**"
      ]
    },
    {
      "cell_type": "code",
      "metadata": {
        "id": "jioSRoywmdhk",
        "colab_type": "code",
        "colab": {
          "base_uri": "https://localhost:8080/",
          "height": 86
        },
        "outputId": "293dceb2-642c-4cff-b1f1-4078c8aefe5e"
      },
      "source": [
        "from sklearn.decomposition import PCA\n",
        "pca = PCA(n_components=3)\n",
        "principalComponents = pca.fit_transform(x)\n",
        "principalDf = pd.DataFrame(data = principalComponents, columns = ['pc1', 'pc2', 'pc3' ])\n",
        "print (principalDf.head(3), principalDf.shape)"
      ],
      "execution_count": null,
      "outputs": [
        {
          "output_type": "stream",
          "text": [
            "        pc1       pc2       pc3\n",
            "0 -1.190613 -0.362772  1.374834\n",
            "1  2.159360  0.069087 -1.587466\n",
            "2  2.015432  1.181892 -0.604167 (400, 3)\n"
          ],
          "name": "stdout"
        }
      ]
    },
    {
      "cell_type": "markdown",
      "metadata": {
        "id": "UH-wk_hUtpj0",
        "colab_type": "text"
      },
      "source": [
        "# **Adding a targetted column**"
      ]
    },
    {
      "cell_type": "code",
      "metadata": {
        "id": "Yfn2ymGenHd7",
        "colab_type": "code",
        "colab": {
          "base_uri": "https://localhost:8080/",
          "height": 86
        },
        "outputId": "500e5f11-108b-4690-db59-e013d78a4b29"
      },
      "source": [
        "finalDf = pd.concat([principalDf, df[['Defaultee']]], axis = 1)\n",
        "print (finalDf.head(3), finalDf.shape)"
      ],
      "execution_count": null,
      "outputs": [
        {
          "output_type": "stream",
          "text": [
            "        pc1       pc2       pc3  Defaultee\n",
            "0 -1.190613 -0.362772  1.374834          0\n",
            "1  2.159360  0.069087 -1.587466          0\n",
            "2  2.015432  1.181892 -0.604167          0 (400, 4)\n"
          ],
          "name": "stdout"
        }
      ]
    },
    {
      "cell_type": "markdown",
      "metadata": {
        "id": "EEsyLeZDtzlw",
        "colab_type": "text"
      },
      "source": [
        "# **Plotting the scatter plot of data on two principal components**"
      ]
    },
    {
      "cell_type": "code",
      "metadata": {
        "id": "1yPEfyJ0nd5T",
        "colab_type": "code",
        "colab": {
          "base_uri": "https://localhost:8080/",
          "height": 523
        },
        "outputId": "6e83bf32-91cb-497a-a3da-d4caf5073a2a"
      },
      "source": [
        "fig = plt.figure(figsize = (8,8))\n",
        "ax = fig.add_subplot(1,1,1) \n",
        "ax.set_xlabel('pc1', fontsize = 15)\n",
        "ax.set_ylabel('pc2', fontsize = 15)\n",
        "#ax.set_zlabel('pc2', fontsize = 15)\n",
        "ax.set_title('2 component PCA', fontsize = 20)\n",
        "\n",
        "Defaultee = [0, 1]\n",
        "colors = ['r', 'b']\n",
        "for defaultee, color in zip(Defaultee,colors):\n",
        "    indicesToKeep = finalDf['Defaultee'] == defaultee\n",
        "    ax.scatter(finalDf.loc[indicesToKeep, 'pc1'], finalDf.loc[indicesToKeep, 'pc2'], c = color, s = 50)\n",
        "ax.legend(Defaultee)\n",
        "ax.grid()"
      ],
      "execution_count": null,
      "outputs": [
        {
          "output_type": "display_data",
          "data": {
            "image/png": "[encoded data removed]",
            "text/plain": [
              "<Figure size 576x576 with 1 Axes>"
            ]
          },
          "metadata": {
            "tags": [],
            "needs_background": "light"
          }
        }
      ]
    },
    {
      "cell_type": "markdown",
      "metadata": {
        "id": "c9qZi2rvulsa",
        "colab_type": "text"
      },
      "source": [
        "# **Regression & Prediction**"
      ]
    },
    {
      "cell_type": "code",
      "metadata": {
        "id": "ez49w7RHp3F3",
        "colab_type": "code",
        "colab": {}
      },
      "source": [
        "from sklearn.linear_model import LogisticRegression\n",
        "logisticRegr = LogisticRegression(solver = 'lbfgs')"
      ],
      "execution_count": null,
      "outputs": []
    },
    {
      "cell_type": "code",
      "metadata": {
        "id": "RgDPJBJFqBXZ",
        "colab_type": "code",
        "colab": {
          "base_uri": "https://localhost:8080/",
          "height": 34
        },
        "outputId": "316e1b86-27c4-4ecc-e4dd-7ae29f8dacce"
      },
      "source": [
        "x_tr, y_tr, x_ts, y_ts=x[:-50], y[:-50], x[-50:], y[-50:]\n",
        "print (x_tr.shape, y_tr.shape, x_ts.shape, y_ts.shape)"
      ],
      "execution_count": null,
      "outputs": [
        {
          "output_type": "stream",
          "text": [
            "(350, 7) (350, 1) (50, 7) (50, 1)\n"
          ],
          "name": "stdout"
        }
      ]
    },
    {
      "cell_type": "markdown",
      "metadata": {
        "id": "_NlFSgK3uwU_",
        "colab_type": "text"
      },
      "source": [
        "# **fitting and transforming on train and test data**"
      ]
    },
    {
      "cell_type": "code",
      "metadata": {
        "id": "5nSn4Kfarr_e",
        "colab_type": "code",
        "colab": {}
      },
      "source": [
        "#pca.fit(x_tr)\n",
        "#x_tr = pca.transform(x_tr)\n",
        "#x_ts = pca.transform(x_ts)"
      ],
      "execution_count": null,
      "outputs": []
    },
    {
      "cell_type": "code",
      "metadata": {
        "id": "TBMgztCCp--c",
        "colab_type": "code",
        "colab": {
          "base_uri": "https://localhost:8080/",
          "height": 124
        },
        "outputId": "355f255c-2113-40f5-955a-e75611fe0835"
      },
      "source": [
        "logisticRegr.fit(x_tr, y_tr)\n",
        "logisticRegr.predict(x_ts)"
      ],
      "execution_count": null,
      "outputs": [
        {
          "output_type": "stream",
          "text": [
            "/usr/local/lib/python3.6/dist-packages/sklearn/utils/validation.py:760: DataConversionWarning: A column-vector y was passed when a 1d array was expected. Please change the shape of y to (n_samples, ), for example using ravel().\n",
            "  y = column_or_1d(y, warn=True)\n"
          ],
          "name": "stderr"
        },
        {
          "output_type": "execute_result",
          "data": {
            "text/plain": [
              "array([0, 0, 0, 0, 0, 1, 0, 0, 0, 0, 0, 0, 0, 0, 1, 0, 1, 0, 0, 1, 0, 0,\n",
              "       0, 0, 0, 0, 0, 0, 0, 0, 0, 0, 1, 0, 0, 0, 0, 0, 1, 0, 1, 0, 0, 0,\n",
              "       0, 0, 0, 0, 0, 0])"
            ]
          },
          "metadata": {
            "tags": []
          },
          "execution_count": 11
        }
      ]
    },
    {
      "cell_type": "code",
      "metadata": {
        "id": "vyCWrvTZqqvb",
        "colab_type": "code",
        "colab": {
          "base_uri": "https://localhost:8080/",
          "height": 34
        },
        "outputId": "70c52cdd-5049-41e7-fb85-bc6ca0b26313"
      },
      "source": [
        "logisticRegr.score(x_ts, y_ts)"
      ],
      "execution_count": null,
      "outputs": [
        {
          "output_type": "execute_result",
          "data": {
            "text/plain": [
              "0.94"
            ]
          },
          "metadata": {
            "tags": []
          },
          "execution_count": 12
        }
      ]
    }
  ]
}