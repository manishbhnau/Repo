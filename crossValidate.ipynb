{
  "nbformat": 4,
  "nbformat_minor": 0,
  "metadata": {
    "colab": {
      "name": "crossValidate.ipynb",
      "provenance": [],
      "collapsed_sections": [],
      "authorship_tag": "ABX9TyNpLjv7VR/oLKUEAITb9b60",
      "include_colab_link": true
    },
    "kernelspec": {
      "name": "python3",
      "display_name": "Python 3"
    }
  },
  "cells": [
    {
      "cell_type": "markdown",
      "metadata": {
        "id": "view-in-github",
        "colab_type": "text"
      },
      "source": [
        "<a href=\"https://colab.research.google.com/github/manishbhnau/Repo/blob/master/crossValidate.ipynb\" target=\"_parent\"><img src=\"https://colab.research.google.com/assets/colab-badge.svg\" alt=\"Open In Colab\"/></a>"
      ]
    },
    {
      "cell_type": "markdown",
      "metadata": {
        "id": "FFPlz5xtHL7A"
      },
      "source": [
        "## **k-fold cross validation**"
      ]
    },
    {
      "cell_type": "code",
      "metadata": {
        "colab": {
          "base_uri": "https://localhost:8080/"
        },
        "id": "xSo0eievGkDZ",
        "outputId": "893f93c7-b8e7-4577-f447-f101feff8c5a"
      },
      "source": [
        "import numpy as np\n",
        "from sklearn.model_selection import KFold\n",
        "\n",
        "X = [\"a\", \"b\", \"c\", \"d\"]\n",
        "kf = KFold(n_splits=2)\n",
        "for train, test in kf.split(X):\n",
        "    print(\"%s %s\" % (train, test))"
      ],
      "execution_count": null,
      "outputs": [
        {
          "output_type": "stream",
          "text": [
            "[2 3] [0 1]\n",
            "[0 1] [2 3]\n"
          ],
          "name": "stdout"
        }
      ]
    },
    {
      "cell_type": "markdown",
      "metadata": {
        "id": "SidcOl0UHSb0"
      },
      "source": [
        "## **Leave One fold Out Cross Validation**"
      ]
    },
    {
      "cell_type": "code",
      "metadata": {
        "colab": {
          "base_uri": "https://localhost:8080/"
        },
        "id": "IK79PAtKHiU2",
        "outputId": "2d34f8a7-d9f7-469d-b759-44209b444e5d"
      },
      "source": [
        "from sklearn.model_selection import LeaveOneOut\n",
        "\n",
        "X = [1, 2, 3, 4]\n",
        "loo = LeaveOneOut()\n",
        "for train, test in loo.split(X):\n",
        "    print(\"%s %s\" % (train, test))"
      ],
      "execution_count": null,
      "outputs": [
        {
          "output_type": "stream",
          "text": [
            "[1 2 3] [0]\n",
            "[0 2 3] [1]\n",
            "[0 1 3] [2]\n",
            "[0 1 2] [3]\n"
          ],
          "name": "stdout"
        }
      ]
    },
    {
      "cell_type": "markdown",
      "metadata": {
        "id": "YzIh0ZLuHp_A"
      },
      "source": [
        "## **Leave P-out Cross Validation**"
      ]
    },
    {
      "cell_type": "code",
      "metadata": {
        "colab": {
          "base_uri": "https://localhost:8080/"
        },
        "id": "oN00KXlmHu7N",
        "outputId": "34aedb45-5658-4fdb-cc0c-9fb9e84df3e9"
      },
      "source": [
        "from sklearn.model_selection import LeavePOut\n",
        "X = np.array([[1, 2], [3, 4], [5, 6], [7, 8]])\n",
        "y = np.array([1, 2, 3, 4])\n",
        "lpo = LeavePOut(2)\n",
        "\n",
        "for train_index, test_index in lpo.split(X):\n",
        "    print(\"TRAIN:\", train_index, \"TEST:\", test_index)\n",
        "    X_train, X_test = X[train_index], X[test_index]\n",
        "    y_train, y_test = y[train_index], y[test_index]"
      ],
      "execution_count": null,
      "outputs": [
        {
          "output_type": "stream",
          "text": [
            "TRAIN: [2 3] TEST: [0 1]\n",
            "TRAIN: [1 3] TEST: [0 2]\n",
            "TRAIN: [1 2] TEST: [0 3]\n",
            "TRAIN: [0 3] TEST: [1 2]\n",
            "TRAIN: [0 2] TEST: [1 3]\n",
            "TRAIN: [0 1] TEST: [2 3]\n"
          ],
          "name": "stdout"
        }
      ]
    }
  ]
}