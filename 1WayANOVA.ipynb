{
  "nbformat": 4,
  "nbformat_minor": 0,
  "metadata": {
    "colab": {
      "name": "1WayANOVA.ipynb",
      "provenance": [],
      "collapsed_sections": []
    },
    "kernelspec": {
      "name": "python3",
      "display_name": "Python 3"
    }
  },
  "cells": [
    {
      "cell_type": "code",
      "metadata": {
        "id": "5mxNTxhFmW-P",
        "colab_type": "code",
        "colab": {
          "base_uri": "https://localhost:8080/",
          "height": 72
        },
        "outputId": "e8880e76-e31c-46b7-f8a9-726fe11038a6"
      },
      "source": [
        "import pandas as pd\n",
        "import numpy as np\n",
        "import seaborn as sns\n",
        "import matplotlib.pyplot as plt\n",
        "import statsmodels.api as sm\n",
        "from statsmodels.formula.api import ols"
      ],
      "execution_count": null,
      "outputs": [
        {
          "output_type": "stream",
          "text": [
            "/usr/local/lib/python3.6/dist-packages/statsmodels/tools/_testing.py:19: FutureWarning: pandas.util.testing is deprecated. Use the functions in the public API at pandas.testing instead.\n",
            "  import pandas.util.testing as tm\n"
          ],
          "name": "stderr"
        }
      ]
    },
    {
      "cell_type": "markdown",
      "metadata": {
        "id": "S7JFN6Ps4V2E",
        "colab_type": "text"
      },
      "source": [
        "# **Reading Dataframe**"
      ]
    },
    {
      "cell_type": "code",
      "metadata": {
        "id": "IvRunne4nJO8",
        "colab_type": "code",
        "colab": {
          "base_uri": "https://localhost:8080/",
          "height": 176
        },
        "outputId": "f8abbe24-3617-4f56-d692-a8dc8cc4c660"
      },
      "source": [
        "url=\"https://raw.githubusercontent.com/manishbhnau/Repo/master/Credit.csv\"\n",
        "df=pd.read_csv(url)\n",
        "print (df.head(3))\n",
        "print (df.columns.tolist())\n",
        "print (df.shape)"
      ],
      "execution_count": null,
      "outputs": [
        {
          "output_type": "stream",
          "text": [
            "   Unnamed: 0   Income  Limit  Rating  ...  Married  Ethnicity  Balance Defaultee\n",
            "0           1   14.891   3606     283  ...      Yes  Caucasian      333         0\n",
            "1           2  106.025   6645     483  ...      Yes      Asian      903         0\n",
            "2           3  104.593   7075     514  ...       No      Asian      580         0\n",
            "\n",
            "[3 rows x 13 columns]\n",
            "['Unnamed: 0', 'Income', 'Limit', 'Rating', 'Cards', 'Age', 'Education', 'Gender', 'Student', 'Married', 'Ethnicity', 'Balance', 'Defaultee']\n",
            "(400, 13)\n"
          ],
          "name": "stdout"
        }
      ]
    },
    {
      "cell_type": "markdown",
      "metadata": {
        "id": "xO97WsgO4hjG",
        "colab_type": "text"
      },
      "source": [
        "# **Plotting the Group**"
      ]
    },
    {
      "cell_type": "code",
      "metadata": {
        "id": "Dk6iVyPjnyeo",
        "colab_type": "code",
        "colab": {
          "base_uri": "https://localhost:8080/",
          "height": 318
        },
        "outputId": "b93a8e46-8148-45f9-af48-ce2236200e5f"
      },
      "source": [
        "df.boxplot('Income', by='Ethnicity', figsize=(8, 4))"
      ],
      "execution_count": null,
      "outputs": [
        {
          "output_type": "execute_result",
          "data": {
            "text/plain": [
              "<matplotlib.axes._subplots.AxesSubplot at 0x7f5b5329a0b8>"
            ]
          },
          "metadata": {
            "tags": []
          },
          "execution_count": 3
        },
        {
          "output_type": "display_data",
          "data": {
            "image/png": "[encoded data removed]",
            "text/plain": [
              "<Figure size 576x288 with 1 Axes>"
            ]
          },
          "metadata": {
            "tags": [],
            "needs_background": "light"
          }
        }
      ]
    },
    {
      "cell_type": "markdown",
      "metadata": {
        "id": "m47qn83Y_aCN",
        "colab_type": "text"
      },
      "source": [
        "# **statsmodels**"
      ]
    },
    {
      "cell_type": "code",
      "metadata": {
        "id": "Lt0-VPsW8z30",
        "colab_type": "code",
        "colab": {
          "base_uri": "https://localhost:8080/",
          "height": 69
        },
        "outputId": "07d6662a-7b10-4ca6-9baa-dbc6c64695ca"
      },
      "source": [
        "import statsmodels.api as sm\n",
        "from statsmodels.formula.api import ols\n",
        "\n",
        "mod = ols('Income ~ Ethnicity', data=df).fit()\n",
        "                \n",
        "aov_table = sm.stats.anova_lm(mod, typ=1)\n",
        "print(aov_table)"
      ],
      "execution_count": null,
      "outputs": [
        {
          "output_type": "stream",
          "text": [
            "              df         sum_sq      mean_sq         F    PR(>F)\n",
            "Ethnicity    2.0     805.768191   402.884096  0.323242  0.723989\n",
            "Residual   397.0  494815.589392  1246.386875       NaN       NaN\n"
          ],
          "name": "stdout"
        }
      ]
    },
    {
      "cell_type": "code",
      "metadata": {
        "id": "iTiQksg79DMb",
        "colab_type": "code",
        "colab": {
          "base_uri": "https://localhost:8080/",
          "height": 69
        },
        "outputId": "4dc5d9e6-e3bd-4e40-9c1d-e3639351b6df"
      },
      "source": [
        "esq_sm = aov_table['sum_sq'][0]/(aov_table['sum_sq'][0]+aov_table['sum_sq'][1])\n",
        "aov_table['EtaSq'] = [esq_sm, 'NaN']\n",
        "print(aov_table)"
      ],
      "execution_count": null,
      "outputs": [
        {
          "output_type": "stream",
          "text": [
            "              df         sum_sq      mean_sq         F    PR(>F)       EtaSq\n",
            "Ethnicity    2.0     805.768191   402.884096  0.323242  0.723989  0.00162577\n",
            "Residual   397.0  494815.589392  1246.386875       NaN       NaN         NaN\n"
          ],
          "name": "stdout"
        }
      ]
    },
    {
      "cell_type": "code",
      "metadata": {
        "id": "17zhVMoZ9eLU",
        "colab_type": "code",
        "colab": {
          "base_uri": "https://localhost:8080/",
          "height": 143
        },
        "outputId": "ac0eed5f-fabd-406a-93b2-fce6a69f5996"
      },
      "source": [
        "pair_t = mod.t_test_pairwise('Ethnicity')\n",
        "pair_t.result_frame"
      ],
      "execution_count": null,
      "outputs": [
        {
          "output_type": "execute_result",
          "data": {
            "text/html": [
              "<div>\n",
              "<style scoped>\n",
              "    .dataframe tbody tr th:only-of-type {\n",
              "        vertical-align: middle;\n",
              "    }\n",
              "\n",
              "    .dataframe tbody tr th {\n",
              "        vertical-align: top;\n",
              "    }\n",
              "\n",
              "    .dataframe thead th {\n",
              "        text-align: right;\n",
              "    }\n",
              "</style>\n",
              "<table border=\"1\" class=\"dataframe\">\n",
              "  <thead>\n",
              "    <tr style=\"text-align: right;\">\n",
              "      <th></th>\n",
              "      <th>coef</th>\n",
              "      <th>std err</th>\n",
              "      <th>t</th>\n",
              "      <th>P&gt;|t|</th>\n",
              "      <th>Conf. Int. Low</th>\n",
              "      <th>Conf. Int. Upp.</th>\n",
              "      <th>pvalue-hs</th>\n",
              "      <th>reject-hs</th>\n",
              "    </tr>\n",
              "  </thead>\n",
              "  <tbody>\n",
              "    <tr>\n",
              "      <th>Asian-African American</th>\n",
              "      <td>-3.494268</td>\n",
              "      <td>4.980888</td>\n",
              "      <td>-0.701535</td>\n",
              "      <td>0.483380</td>\n",
              "      <td>-13.286482</td>\n",
              "      <td>6.297946</td>\n",
              "      <td>0.848716</td>\n",
              "      <td>False</td>\n",
              "    </tr>\n",
              "    <tr>\n",
              "      <th>Caucasian-African American</th>\n",
              "      <td>-3.160156</td>\n",
              "      <td>4.342006</td>\n",
              "      <td>-0.727810</td>\n",
              "      <td>0.467159</td>\n",
              "      <td>-11.696355</td>\n",
              "      <td>5.376043</td>\n",
              "      <td>0.848716</td>\n",
              "      <td>False</td>\n",
              "    </tr>\n",
              "    <tr>\n",
              "      <th>Caucasian-Asian</th>\n",
              "      <td>0.334111</td>\n",
              "      <td>4.299155</td>\n",
              "      <td>0.077716</td>\n",
              "      <td>0.938093</td>\n",
              "      <td>-8.117843</td>\n",
              "      <td>8.786066</td>\n",
              "      <td>0.938093</td>\n",
              "      <td>False</td>\n",
              "    </tr>\n",
              "  </tbody>\n",
              "</table>\n",
              "</div>"
            ],
            "text/plain": [
              "                                coef   std err  ...  pvalue-hs  reject-hs\n",
              "Asian-African American     -3.494268  4.980888  ...   0.848716      False\n",
              "Caucasian-African American -3.160156  4.342006  ...   0.848716      False\n",
              "Caucasian-Asian             0.334111  4.299155  ...   0.938093      False\n",
              "\n",
              "[3 rows x 8 columns]"
            ]
          },
          "metadata": {
            "tags": []
          },
          "execution_count": 13
        }
      ]
    },
    {
      "cell_type": "markdown",
      "metadata": {
        "id": "f-NHRXdA_SJv",
        "colab_type": "text"
      },
      "source": [
        "# **pingouin**"
      ]
    },
    {
      "cell_type": "code",
      "metadata": {
        "id": "isOizEUwGIEd",
        "colab_type": "code",
        "colab": {}
      },
      "source": [
        "#!pip install pingouin"
      ],
      "execution_count": null,
      "outputs": []
    },
    {
      "cell_type": "code",
      "metadata": {
        "id": "Gmud-ygd90bj",
        "colab_type": "code",
        "colab": {
          "base_uri": "https://localhost:8080/",
          "height": 69
        },
        "outputId": "7fea0a15-5048-42f9-ade3-77a35a9e7345"
      },
      "source": [
        "#!pip install pingouin\n",
        "import pingouin as pg\n",
        "\n",
        "aov = pg.anova(data=df, dv='Income', between='Ethnicity', detailed=True)\n",
        "print(aov)"
      ],
      "execution_count": null,
      "outputs": [
        {
          "output_type": "stream",
          "text": [
            "      Source             SS   DF           MS         F     p-unc       np2\n",
            "0  Ethnicity     805.768191    2   402.884096  0.323242  0.723989  0.001626\n",
            "1     Within  494815.589392  397  1246.386875       NaN       NaN       NaN\n"
          ],
          "name": "stdout"
        }
      ]
    },
    {
      "cell_type": "code",
      "metadata": {
        "id": "GGcB15sa-_Aq",
        "colab_type": "code",
        "colab": {
          "base_uri": "https://localhost:8080/",
          "height": 121
        },
        "outputId": "9c4ef647-7e9c-4f99-eee5-25bb6d4aacf0"
      },
      "source": [
        "pt = pg.pairwise_tukey(dv='Income', between='Ethnicity', data=df)\n",
        "print(pt)"
      ],
      "execution_count": null,
      "outputs": [
        {
          "output_type": "stream",
          "text": [
            "                  A          B    mean(A)  ...         T   p-tukey    hedges\n",
            "0  African American      Asian  47.682101  ...  0.701535  0.796342  0.098602\n",
            "1  African American  Caucasian  47.682101  ...  0.727810  0.784980  0.089285\n",
            "2             Asian  Caucasian  44.187833  ... -0.077716  0.900000 -0.009440\n",
            "\n",
            "[3 rows x 10 columns]\n"
          ],
          "name": "stdout"
        }
      ]
    },
    {
      "cell_type": "code",
      "metadata": {
        "id": "tgA4fJoE_GKZ",
        "colab_type": "code",
        "colab": {
          "base_uri": "https://localhost:8080/",
          "height": 121
        },
        "outputId": "d410177e-e4a0-493a-8e50-0550a6c2fa0a"
      },
      "source": [
        "cpt = pg.pairwise_tukey(dv='Income', between='Ethnicity', effsize='cohen', data=df)\n",
        "print(cpt)"
      ],
      "execution_count": null,
      "outputs": [
        {
          "output_type": "stream",
          "text": [
            "                  A          B    mean(A)  ...         T   p-tukey     cohen\n",
            "0  African American      Asian  47.682101  ...  0.701535  0.796342  0.098976\n",
            "1  African American  Caucasian  47.682101  ...  0.727810  0.784980  0.089512\n",
            "2             Asian  Caucasian  44.187833  ... -0.077716  0.900000 -0.009464\n",
            "\n",
            "[3 rows x 10 columns]\n"
          ],
          "name": "stdout"
        }
      ]
    }
  ]
}