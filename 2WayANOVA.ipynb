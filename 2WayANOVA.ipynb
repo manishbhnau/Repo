{
  "nbformat": 4,
  "nbformat_minor": 0,
  "metadata": {
    "colab": {
      "name": "2WayANOVA.ipynb",
      "provenance": [],
      "collapsed_sections": []
    },
    "kernelspec": {
      "name": "python3",
      "display_name": "Python 3"
    }
  },
  "cells": [
    {
      "cell_type": "code",
      "metadata": {
        "id": "mTcPQqS83COn",
        "colab_type": "code",
        "colab": {}
      },
      "source": [
        "import pandas as pd\n",
        "import numpy as np\n",
        "import statsmodels.api as sm\n",
        "from statsmodels.formula.api import ols\n",
        "from statsmodels.stats.anova import anova_lm\n",
        "from statsmodels.graphics.factorplots import interaction_plot\n",
        "import matplotlib.pyplot as plt\n",
        "from scipy import stats"
      ],
      "execution_count": 64,
      "outputs": []
    },
    {
      "cell_type": "markdown",
      "metadata": {
        "id": "Wd_pW5Sx5E-6",
        "colab_type": "text"
      },
      "source": [
        "# **Reading Dataframe**"
      ]
    },
    {
      "cell_type": "code",
      "metadata": {
        "id": "MbmQMIe65HfL",
        "colab_type": "code",
        "colab": {
          "base_uri": "https://localhost:8080/",
          "height": 121
        },
        "outputId": "107e8617-2389-4d24-b83c-22c09d3cbdf4"
      },
      "source": [
        "url=\"https://raw.githubusercontent.com/manishbhnau/Repo/master/Credit.csv\"\n",
        "df=pd.read_csv(url)\n",
        "print (df.head(3))"
      ],
      "execution_count": 65,
      "outputs": [
        {
          "output_type": "stream",
          "text": [
            "   Unnamed: 0   Income  Limit  Rating  ...  Married  Ethnicity  Balance Defaultee\n",
            "0           1   14.891   3606     283  ...      Yes  Caucasian      333         0\n",
            "1           2  106.025   6645     483  ...      Yes      Asian      903         0\n",
            "2           3  104.593   7075     514  ...       No      Asian      580         0\n",
            "\n",
            "[3 rows x 13 columns]\n"
          ],
          "name": "stdout"
        }
      ]
    },
    {
      "cell_type": "code",
      "metadata": {
        "id": "xYrviqZZNbQM",
        "colab_type": "code",
        "colab": {
          "base_uri": "https://localhost:8080/",
          "height": 139
        },
        "outputId": "c34beed7-9b7b-4fa8-fc69-ff2a63636bde"
      },
      "source": [
        "mn, std=np.mean(df[\"Income\"]), np.std(df[\"Income\"])\n",
        "print (mn, std)\n",
        "lis=df[\"Income\"].tolist()\n",
        "inc=[]\n",
        "for l in lis:\n",
        "  if l>mn-std and l<mn+std:\n",
        "    inc.append(\"Medium\")\n",
        "  if l<=mn-std:\n",
        "    inc.append(\"Low\")\n",
        "  if l>=mn+std:\n",
        "    inc.append(\"High\")\n",
        "#print (df[\"Income\"], len(df[\"Income\"]))\n",
        "#print (inc, len(inc))\n",
        "df[\"Level\"]=inc\n",
        "print (df.head(3))"
      ],
      "execution_count": 78,
      "outputs": [
        {
          "output_type": "stream",
          "text": [
            "45.218885000000036 35.20019025455366\n",
            "   Unnamed: 0   Income  Limit  Rating  ...  Ethnicity  Balance  Defaultee   Level\n",
            "0           1   14.891   3606     283  ...  Caucasian      333          0  Medium\n",
            "1           2  106.025   6645     483  ...      Asian      903          0    High\n",
            "2           3  104.593   7075     514  ...      Asian      580          0    High\n",
            "\n",
            "[3 rows x 14 columns]\n"
          ],
          "name": "stdout"
        }
      ]
    },
    {
      "cell_type": "code",
      "metadata": {
        "id": "ca266SsE5Zcl",
        "colab_type": "code",
        "colab": {}
      },
      "source": [
        "#fig = interaction_plot(df.Married, df.Ethnicity, df.Income, colors=['red','blue', 'green'], markers=['D','^', \"o\"], ms=10)"
      ],
      "execution_count": 67,
      "outputs": []
    },
    {
      "cell_type": "markdown",
      "metadata": {
        "id": "jnvLEhZwgkmK",
        "colab_type": "text"
      },
      "source": [
        "# **Statsmodel**"
      ]
    },
    {
      "cell_type": "code",
      "metadata": {
        "id": "r6XPP3bOZKnh",
        "colab_type": "code",
        "colab": {
          "base_uri": "https://localhost:8080/",
          "height": 156
        },
        "outputId": "7c93c2b8-39b9-4fa9-fe23-35eac0d036c1"
      },
      "source": [
        "formula = 'Income ~ C(Level) + C(Ethnicity)'\n",
        "model = ols(formula, df).fit()\n",
        "aov_table = anova_lm(model, typ=2)\n",
        "print (aov, type(aov))\n",
        "print (aov.columns.tolist())"
      ],
      "execution_count": 79,
      "outputs": [
        {
          "output_type": "stream",
          "text": [
            "              Source             SS     DF  ...           F          p-unc       np2\n",
            "0              Level  342775.750840    1.0  ...  889.512662  4.375026e-103  0.693030\n",
            "1          Ethnicity     871.977810    2.0  ...    1.131403   3.236260e-01  0.005710\n",
            "2  Level * Ethnicity     211.032027    2.0  ...    0.273817   7.606158e-01  0.001388\n",
            "3           Residual  151828.806525  394.0  ...         NaN            NaN       NaN\n",
            "\n",
            "[4 rows x 7 columns] <class 'pandas.core.frame.DataFrame'>\n",
            "['Source', 'SS', 'DF', 'MS', 'F', 'p-unc', 'np2']\n"
          ],
          "name": "stdout"
        }
      ]
    },
    {
      "cell_type": "code",
      "metadata": {
        "id": "nVJzOvaLdQ8r",
        "colab_type": "code",
        "colab": {
          "base_uri": "https://localhost:8080/",
          "height": 486
        },
        "outputId": "11070279-3a60-4d51-bfb7-32857344ebec"
      },
      "source": [
        "formula = 'Income ~ C(Ethnicity) + C(Level)'\n",
        "lm = ols(formula, df).fit()\n",
        "print(lm.summary())"
      ],
      "execution_count": 80,
      "outputs": [
        {
          "output_type": "stream",
          "text": [
            "                            OLS Regression Results                            \n",
            "==============================================================================\n",
            "Dep. Variable:                 Income   R-squared:                       0.693\n",
            "Model:                            OLS   Adj. R-squared:                  0.691\n",
            "Method:                 Least Squares   F-statistic:                     298.3\n",
            "Date:                Sat, 25 Jul 2020   Prob (F-statistic):          3.24e-101\n",
            "Time:                        08:18:36   Log-Likelihood:                -1755.7\n",
            "No. Observations:                 400   AIC:                             3519.\n",
            "Df Residuals:                     396   BIC:                             3535.\n",
            "Df Model:                           3                                         \n",
            "Covariance Type:            nonrobust                                         \n",
            "=============================================================================================\n",
            "                                coef    std err          t      P>|t|      [0.025      0.975]\n",
            "---------------------------------------------------------------------------------------------\n",
            "Intercept                   118.8403      3.090     38.456      0.000     112.765     124.916\n",
            "C(Ethnicity)[T.Asian]        -1.3759      2.765     -0.498      0.619      -6.813       4.061\n",
            "C(Ethnicity)[T.Caucasian]     2.0945      2.416      0.867      0.387      -2.656       6.845\n",
            "C(Level)[T.Medium]          -85.9105      2.875    -29.880      0.000     -91.563     -80.258\n",
            "==============================================================================\n",
            "Omnibus:                       31.615   Durbin-Watson:                   2.109\n",
            "Prob(Omnibus):                  0.000   Jarque-Bera (JB):               37.242\n",
            "Skew:                           0.743   Prob(JB):                     8.18e-09\n",
            "Kurtosis:                       3.155   Cond. No.                         6.27\n",
            "==============================================================================\n",
            "\n",
            "Warnings:\n",
            "[1] Standard Errors assume that the covariance matrix of the errors is correctly specified.\n"
          ],
          "name": "stdout"
        }
      ]
    },
    {
      "cell_type": "markdown",
      "metadata": {
        "id": "1ul2ZGmj-_fr",
        "colab_type": "text"
      },
      "source": [
        "# **pingouin**"
      ]
    },
    {
      "cell_type": "code",
      "metadata": {
        "id": "6He7TGgy_LtS",
        "colab_type": "code",
        "colab": {}
      },
      "source": [
        "#!pip install pingouin"
      ],
      "execution_count": 70,
      "outputs": []
    },
    {
      "cell_type": "code",
      "metadata": {
        "id": "OUQqmWb3_Ekb",
        "colab_type": "code",
        "colab": {
          "base_uri": "https://localhost:8080/",
          "height": 143
        },
        "outputId": "e75a5ae2-ab90-4e41-b5a0-ea0a464463b1"
      },
      "source": [
        "import pingouin as pg\n",
        "df.head(3)"
      ],
      "execution_count": 71,
      "outputs": [
        {
          "output_type": "execute_result",
          "data": {
            "text/html": [
              "<div>\n",
              "<style scoped>\n",
              "    .dataframe tbody tr th:only-of-type {\n",
              "        vertical-align: middle;\n",
              "    }\n",
              "\n",
              "    .dataframe tbody tr th {\n",
              "        vertical-align: top;\n",
              "    }\n",
              "\n",
              "    .dataframe thead th {\n",
              "        text-align: right;\n",
              "    }\n",
              "</style>\n",
              "<table border=\"1\" class=\"dataframe\">\n",
              "  <thead>\n",
              "    <tr style=\"text-align: right;\">\n",
              "      <th></th>\n",
              "      <th>Unnamed: 0</th>\n",
              "      <th>Income</th>\n",
              "      <th>Limit</th>\n",
              "      <th>Rating</th>\n",
              "      <th>Cards</th>\n",
              "      <th>Age</th>\n",
              "      <th>Education</th>\n",
              "      <th>Gender</th>\n",
              "      <th>Student</th>\n",
              "      <th>Married</th>\n",
              "      <th>Ethnicity</th>\n",
              "      <th>Balance</th>\n",
              "      <th>Defaultee</th>\n",
              "      <th>Level</th>\n",
              "    </tr>\n",
              "  </thead>\n",
              "  <tbody>\n",
              "    <tr>\n",
              "      <th>0</th>\n",
              "      <td>1</td>\n",
              "      <td>14.891</td>\n",
              "      <td>3606</td>\n",
              "      <td>283</td>\n",
              "      <td>2</td>\n",
              "      <td>34</td>\n",
              "      <td>11</td>\n",
              "      <td>Male</td>\n",
              "      <td>No</td>\n",
              "      <td>Yes</td>\n",
              "      <td>Caucasian</td>\n",
              "      <td>333</td>\n",
              "      <td>0</td>\n",
              "      <td>Medium</td>\n",
              "    </tr>\n",
              "    <tr>\n",
              "      <th>1</th>\n",
              "      <td>2</td>\n",
              "      <td>106.025</td>\n",
              "      <td>6645</td>\n",
              "      <td>483</td>\n",
              "      <td>3</td>\n",
              "      <td>82</td>\n",
              "      <td>15</td>\n",
              "      <td>Female</td>\n",
              "      <td>Yes</td>\n",
              "      <td>Yes</td>\n",
              "      <td>Asian</td>\n",
              "      <td>903</td>\n",
              "      <td>0</td>\n",
              "      <td>High</td>\n",
              "    </tr>\n",
              "    <tr>\n",
              "      <th>2</th>\n",
              "      <td>3</td>\n",
              "      <td>104.593</td>\n",
              "      <td>7075</td>\n",
              "      <td>514</td>\n",
              "      <td>4</td>\n",
              "      <td>71</td>\n",
              "      <td>11</td>\n",
              "      <td>Male</td>\n",
              "      <td>No</td>\n",
              "      <td>No</td>\n",
              "      <td>Asian</td>\n",
              "      <td>580</td>\n",
              "      <td>0</td>\n",
              "      <td>High</td>\n",
              "    </tr>\n",
              "  </tbody>\n",
              "</table>\n",
              "</div>"
            ],
            "text/plain": [
              "   Unnamed: 0   Income  Limit  Rating  ...  Ethnicity  Balance  Defaultee   Level\n",
              "0           1   14.891   3606     283  ...  Caucasian      333          0  Medium\n",
              "1           2  106.025   6645     483  ...      Asian      903          0    High\n",
              "2           3  104.593   7075     514  ...      Asian      580          0    High\n",
              "\n",
              "[3 rows x 14 columns]"
            ]
          },
          "metadata": {
            "tags": []
          },
          "execution_count": 71
        }
      ]
    },
    {
      "cell_type": "code",
      "metadata": {
        "id": "TprdxsF2_Ymb",
        "colab_type": "code",
        "colab": {
          "base_uri": "https://localhost:8080/",
          "height": 156
        },
        "outputId": "acedb84b-cba3-41af-bb40-253f3aa0ae43"
      },
      "source": [
        "aov = pg.anova(dv='Income', between=['Level', 'Ethnicity'], data=df, detailed=True)\n",
        "print(aov, type(aov))\n",
        "print (aov.columns.tolist())"
      ],
      "execution_count": 72,
      "outputs": [
        {
          "output_type": "stream",
          "text": [
            "              Source             SS     DF  ...           F          p-unc       np2\n",
            "0              Level  342775.750840    1.0  ...  889.512662  4.375026e-103  0.693030\n",
            "1          Ethnicity     871.977810    2.0  ...    1.131403   3.236260e-01  0.005710\n",
            "2  Level * Ethnicity     211.032027    2.0  ...    0.273817   7.606158e-01  0.001388\n",
            "3           Residual  151828.806525  394.0  ...         NaN            NaN       NaN\n",
            "\n",
            "[4 rows x 7 columns] <class 'pandas.core.frame.DataFrame'>\n",
            "['Source', 'SS', 'DF', 'MS', 'F', 'p-unc', 'np2']\n"
          ],
          "name": "stdout"
        }
      ]
    }
  ]
}