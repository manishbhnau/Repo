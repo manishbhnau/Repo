{
  "nbformat": 4,
  "nbformat_minor": 0,
  "metadata": {
    "colab": {
      "name": "stats_ans_1.ipynb",
      "provenance": [],
      "collapsed_sections": []
    },
    "kernelspec": {
      "name": "python3",
      "display_name": "Python 3"
    }
  },
  "cells": [
    {
      "cell_type": "markdown",
      "metadata": {
        "id": "aWJuRGVntPUc",
        "colab_type": "text"
      },
      "source": [
        "# **1) Find the expected variance E[σ^2] of the “Income” distribution of sample means with size=n of those who are “Married”. Plot the graph**\n",
        "# of n vs σ. **bold text**\n",
        "# Consider n=10, 20 , 30....50.**bold text**"
      ]
    },
    {
      "cell_type": "code",
      "metadata": {
        "id": "KDFNJMunlt6J",
        "colab_type": "code",
        "colab": {}
      },
      "source": [
        "import pandas as pd\n",
        "import pandas as pd\n",
        "import numpy as np\n",
        "import random\n",
        "from scipy.stats import norm\n",
        "import matplotlib.pyplot as plt\n",
        "url=\"https://raw.githubusercontent.com/manishbhnau/Repo/master/Credit.csv\""
      ],
      "execution_count": null,
      "outputs": []
    },
    {
      "cell_type": "code",
      "metadata": {
        "id": "N8Jjrr0DmNyc",
        "colab_type": "code",
        "colab": {}
      },
      "source": [
        "#function to calculate sample mean distribution (for iteration number of times)\n",
        "def sampleMeanDist(df, n, iterate):\n",
        "\t#list to hold mean of many samples, each with size n\n",
        "\tmeanDistr=[]\n",
        "\tfor i in range(iterate):\n",
        "\t\t#taking n random numbers in a given range\n",
        "\t\trandomIndex=random.sample(range(0, df.shape[0]), n)\n",
        "\n",
        "\t\t#taking n random rows of dataframe ie taking a sample size of n\n",
        "\t\tdtemp=df[ df.index.isin(randomIndex) ]\n",
        "\n",
        "\t\t#calculating mean of sample and storing it in result list\n",
        "\t\tmeanDistr.append(np.mean(dtemp[\"Income\"]))\n",
        "\n",
        "\t#assuming its mean is normally distributed finding its mean and standard deviation\n",
        "\tmu, std=norm.fit(meanDistr)\n",
        "\t#printing mean and standard deviation\n",
        "\tprint (mu, std)\n",
        "\t#returning mean and standard deviation\n",
        "\treturn mu, std"
      ],
      "execution_count": null,
      "outputs": []
    },
    {
      "cell_type": "code",
      "metadata": {
        "id": "qfPnbx8Amp_K",
        "colab_type": "code",
        "colab": {}
      },
      "source": [
        "#Reading dataframe\n",
        "df=pd.read_csv(url)\n",
        "\n",
        "#picking rows with given condition in dataframe\n",
        "df=df[ ( (df[\"Married\"]==\"Yes\") ) ]\n",
        "\n",
        "#resetting the indices of dataframe\n",
        "df=df.reset_index()"
      ],
      "execution_count": null,
      "outputs": []
    },
    {
      "cell_type": "code",
      "metadata": {
        "id": "iOP56_3JmwcX",
        "colab_type": "code",
        "colab": {
          "base_uri": "https://localhost:8080/",
          "height": 34
        },
        "outputId": "8b53b3c1-d894-48cc-b0c2-aeb13df07e35"
      },
      "source": [
        "#population parameters\n",
        "print (\"actual mean and variance \", np.mean(df[\"Income\"]), np.std(df[\"Income\"]))"
      ],
      "execution_count": null,
      "outputs": [
        {
          "output_type": "stream",
          "text": [
            "actual mean and variance  46.21708163265304 36.89464580481464\n"
          ],
          "name": "stdout"
        }
      ]
    },
    {
      "cell_type": "code",
      "metadata": {
        "id": "97LW96Bsm0qX",
        "colab_type": "code",
        "colab": {
          "base_uri": "https://localhost:8080/",
          "height": 104
        },
        "outputId": "bb04ba85-abe6-451f-a9cd-41088bef6bf8"
      },
      "source": [
        "#Result dataframe to hold values to be plotted\n",
        "dfRes=pd.DataFrame(columns=[\"n\", \"mean\", \"std\"])\n",
        "\n",
        "#iterate over all sample sizes: each sample size is taken 100 times\n",
        "for i in [10, 20, 30, 40, 50]:\n",
        "  #obtaing sample statistics with sample size i and iteration 100 times\n",
        "  mu, std=sampleMeanDist(df, i, 100)##Number of times a sample size n is repeated for experimentation\n",
        "  #adding row into result dataframe\n",
        "  dfRes.loc[len(dfRes)]=[i, mu, std]"
      ],
      "execution_count": null,
      "outputs": [
        {
          "output_type": "stream",
          "text": [
            "44.430775000000004 13.616867526743256\n",
            "47.1876205 7.1457171821136845\n",
            "46.021333333333324 6.685052212775404\n",
            "45.80737824999999 5.038889171711924\n",
            "46.2657474 4.6548977040005095\n"
          ],
          "name": "stdout"
        }
      ]
    },
    {
      "cell_type": "code",
      "metadata": {
        "id": "VxBjAdOymT7O",
        "colab_type": "code",
        "colab": {
          "base_uri": "https://localhost:8080/",
          "height": 395
        },
        "outputId": "77e27d06-7e44-43ff-a33e-746b71cd0a91"
      },
      "source": [
        "#Printing result dataframe\n",
        "print (dfRes)\n",
        "#Plotting result dataframe\n",
        "dfRes.plot(x=\"n\", y=\"std\", kind=\"bar\")\n",
        "plt.show()"
      ],
      "execution_count": null,
      "outputs": [
        {
          "output_type": "stream",
          "text": [
            "      n       mean        std\n",
            "0  10.0  44.430775  13.616868\n",
            "1  20.0  47.187621   7.145717\n",
            "2  30.0  46.021333   6.685052\n",
            "3  40.0  45.807378   5.038889\n",
            "4  50.0  46.265747   4.654898\n"
          ],
          "name": "stdout"
        },
        {
          "output_type": "display_data",
          "data": {
            "image/png": "[encoded data removed]",
            "text/plain": [
              "<Figure size 432x288 with 1 Axes>"
            ]
          },
          "metadata": {
            "tags": [],
            "needs_background": "light"
          }
        }
      ]
    }
  ]
}